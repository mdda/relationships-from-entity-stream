{
 "cells": [
  {
   "cell_type": "code",
   "execution_count": null,
   "metadata": {},
   "outputs": [],
   "source": [
    "import numpy as np\n",
    "\n",
    "import torch\n",
    "from torch.autograd import Variable\n",
    "\n",
    "\"\"\"\n",
    "This implementation defines the model as a custom Module subclass. Whenever you\n",
    "want a model more complex than a simple sequence of existing Modules you will\n",
    "need to define your model this way.\n",
    "\"\"\";"
   ]
  },
  {
   "cell_type": "code",
   "execution_count": null,
   "metadata": {},
   "outputs": [],
   "source": [
    "# d is size of input\n",
    "batch_size, d = 256, 5\n",
    "\n",
    "x_np = np.random.randint( d, size=(batch_size,1) )\n",
    "\n",
    "t_long = torch.LongTensor\n",
    "t_float = torch.FloatTensor\n",
    "if torch.cuda.is_available():\n",
    "    t_long = torch.cuda.LongTensor\n",
    "    t_float = torch.cuda.FloatTensor\n",
    "\n",
    "# Create random Tensors to hold inputs and outputs, and wrap them in Variables\n",
    "#x = Variable(torch.randn(batch_size, D_in))\n",
    "#y = Variable(torch.randn(batch_size, D_out), requires_grad=False)\n",
    "\n",
    "x = torch.from_numpy(x_np).type( t_long )\n",
    "y = torch.from_numpy(x_np).type( t_long )"
   ]
  },
  {
   "cell_type": "code",
   "execution_count": null,
   "metadata": {},
   "outputs": [],
   "source": [
    "class SelectorNet(torch.nn.Module):\n",
    "  def __init__(self, D):\n",
    "    \"\"\"\n",
    "    In the constructor we instantiate nn modules and assign them as member variables.\n",
    "    \"\"\"\n",
    "    super(SelectorNet, self).__init__()\n",
    "    \n",
    "    self.input_space = torch.FloatTensor(batch_size, D).type(t_float)\n",
    "    self.linear = torch.nn.Linear(D, D)  # This should become the identity\n",
    "\n",
    "  def forward(self, i):\n",
    "    \"\"\"\n",
    "    In the forward function we accept a Variable of input data and we must return\n",
    "    a Variable of output data. We can use Modules defined in the constructor as\n",
    "    well as arbitrary operators on Variables.\n",
    "    \"\"\"\n",
    "    \n",
    "    # Convert the input 'i' into a one-hot vector\n",
    "    self.input_space.zero_()\n",
    "    self.input_space.scatter_(1, i, 1)\n",
    "    \n",
    "    x = self.input_space\n",
    "    logits = self.linear(x)\n",
    "    \n",
    "    #.clamp(min=0)\n",
    "    #y_pred = self.linear2(h_relu)\n",
    "    \n",
    "    action1 = torch.nn.SoftMax(logits)\n",
    "    \n",
    "    y_probs, y_idx = torch.max(action1)\n",
    "    return y_idx\n"
   ]
  },
  {
   "cell_type": "code",
   "execution_count": null,
   "metadata": {},
   "outputs": [],
   "source": [
    "# Construct our model by instantiating the class defined above\n",
    "model = SelectorNet(d)\n",
    "\n",
    "# Construct our loss function and an Optimizer. The call to model.parameters()\n",
    "# in the SGD constructor will contain the learnable parameters of the two\n",
    "# nn.Linear modules which are members of the model.\n",
    "criterion = torch.nn.MSELoss(size_average=False)\n",
    "optimizer = torch.optim.SGD(model.parameters(), lr=1e-4)\n",
    "for t in range(500):\n",
    "  # Forward pass: Compute predicted y by passing x to the model\n",
    "  y_pred = model(x)\n",
    "\n",
    "  # Compute and print loss\n",
    "  loss = criterion(y_pred, y)\n",
    "  print(t, loss.data[0])\n",
    "\n",
    "  # Zero gradients, perform a backward pass, and update the weights.\n",
    "  optimizer.zero_grad()\n",
    "  loss.backward()\n",
    "  optimizer.step()\n"
   ]
  }
 ],
 "metadata": {
  "kernelspec": {
   "display_name": "Python 3",
   "language": "python",
   "name": "python3"
  },
  "language_info": {
   "codemirror_mode": {
    "name": "ipython",
    "version": 3
   },
   "file_extension": ".py",
   "mimetype": "text/x-python",
   "name": "python",
   "nbconvert_exporter": "python",
   "pygments_lexer": "ipython3",
   "version": "3.6.2"
  }
 },
 "nbformat": 4,
 "nbformat_minor": 2
}
